{
 "cells": [
  {
   "cell_type": "code",
   "execution_count": 1,
   "id": "fd1b967e-c894-4954-9f04-86c88e206198",
   "metadata": {},
   "outputs": [],
   "source": [
    "import pandas as pd\n",
    "from datetime import datetime\n",
    "import numpy as np\n",
    "import matplotlib.pyplot as mp\n",
    "import seaborn as sb "
   ]
  },
  {
   "cell_type": "code",
   "execution_count": 2,
   "id": "a48bea8e-f089-4f95-b259-3ac22b7e399f",
   "metadata": {},
   "outputs": [],
   "source": [
    "def convert_values(value):\n",
    "    if value == 'NA':\n",
    "        return 0\n",
    "    else:\n",
    "        return value"
   ]
  },
  {
   "cell_type": "markdown",
   "id": "8358b799-898e-474b-9cba-b946ec7f073b",
   "metadata": {},
   "source": [
    "# Data load\n",
    "## listings"
   ]
  },
  {
   "cell_type": "code",
   "execution_count": 3,
   "id": "456ce1d7-efb5-4ae3-b849-bd1d2a6bfce2",
   "metadata": {
    "scrolled": true
   },
   "outputs": [
    {
     "name": "stdout",
     "output_type": "stream",
     "text": [
      "Tokenization took: 2490.16 ms\n",
      "Type conversion took: 1801.41 ms\n",
      "Parser memory cleanup took: 20.53 ms\n"
     ]
    }
   ],
   "source": [
    "listings_data_types = {'id':'int64', 'host_id':'int32', \\\n",
    "       'latitude':'float32', \\\n",
    "       'longitude':'float32', 'accommodates':np.ubyte,  \\\n",
    "       'availability_30':np.ubyte, 'availability_60':np.ubyte, 'availability_90':np.ubyte, 'availability_365':np.ushort,  'number_of_reviews':np.ushort, \\\n",
    "       'number_of_reviews_ltm':np.ushort, 'number_of_reviews_l30d':np.ubyte,  \\\n",
    "       'review_scores_rating':'float32', 'review_scores_accuracy':'float32', \\\n",
    "       'review_scores_cleanliness':'float32', 'review_scores_checkin':'float32', 'review_scores_communication':'float32', 'review_scores_location':'float32', \\\n",
    "       'review_scores_value':'float32', 'calculated_host_listings_count':np.ushort, \\\n",
    "       'calculated_host_listings_count_entire_homes':np.ushort, 'calculated_host_listings_count_private_rooms':np.ushort, \\\n",
    "        'calculated_host_listings_count_shared_rooms':np.ubyte, 'reviews_per_month':'float32'}\n",
    "\n",
    "listings = pd.read_csv(\"http://data.insideairbnb.com/united-kingdom/england/london/2023-09-06/data/listings.csv.gz\", \\\n",
    "                       low_memory=False, \\\n",
    "                       verbose=True, \\\n",
    "                       converters={'bedrooms': convert_values, 'beds': convert_values, 'maximum_nights':convert_values}, \\\n",
    "                       dtype = listings_data_types, \\\n",
    "                       parse_dates=['last_scraped', 'host_since','calendar_updated','calendar_last_scraped', 'first_review', 'last_review'])"
   ]
  },
  {
   "cell_type": "markdown",
   "id": "a4385bc8-0da5-4ffe-a06e-3188fa2f0ee6",
   "metadata": {},
   "source": [
    "## calendar"
   ]
  },
  {
   "cell_type": "code",
   "execution_count": 4,
   "id": "6b88f35f-7ffa-4155-9e9e-11105acad410",
   "metadata": {},
   "outputs": [
    {
     "name": "stdout",
     "output_type": "stream",
     "text": [
      "Tokenization took: 12224.55 ms\n",
      "Type conversion took: 9612.84 ms\n",
      "Parser memory cleanup took: 307.20 ms\n"
     ]
    }
   ],
   "source": [
    "calendar_data_types = {'listing_id': 'int64', \\\n",
    "    'minimum_nights': np.single, \\\n",
    "    'maximum_nights':'float32'}\n",
    "\n",
    "\n",
    "calendar = pd.read_csv(\"http://data.insideairbnb.com/united-kingdom/england/london/2023-09-06/data/calendar.csv.gz\", \\\n",
    "                       low_memory=False, \\\n",
    "                       verbose=True, \\\n",
    "                       converters={'adjusted_price': convert_values}, \\\n",
    "                       dtype = calendar_data_types, \\\n",
    "                       parse_dates=['date'])\n",
    "calendar[\"date\"]=pd.to_datetime(calendar[\"date\"])"
   ]
  },
  {
   "cell_type": "markdown",
   "id": "1d070974-c3a5-4f41-a528-26671d65601f",
   "metadata": {},
   "source": [
    "## reviews"
   ]
  },
  {
   "cell_type": "code",
   "execution_count": 5,
   "id": "1bb454dd-f12a-4ec3-a898-603b1b76e69d",
   "metadata": {},
   "outputs": [
    {
     "name": "stdout",
     "output_type": "stream",
     "text": [
      "Tokenization took: 6355.34 ms\n",
      "Type conversion took: 3530.11 ms\n",
      "Parser memory cleanup took: 31.57 ms\n"
     ]
    }
   ],
   "source": [
    "reviews = pd.read_csv(\"http://data.insideairbnb.com/united-kingdom/england/london/2023-09-06/data/reviews.csv.gz\", \\\n",
    "                      low_memory=False, \\\n",
    "                      verbose=True, \\\n",
    "                      converters={'adjusted_price': convert_values}, \\\n",
    "                      parse_dates=['date'])"
   ]
  },
  {
   "cell_type": "markdown",
   "id": "17e68d70-bb6f-49a5-8412-6d530ea5f74b",
   "metadata": {},
   "source": [
    "# memory optimization\n",
    "- A regular read_csv for listings implies a memory usage of   50.32MB, but using dtype=listings_data_types   40.09MB:  18.7% reduction\n",
    "\n",
    "- A regulat read_csv for calendar implies a memory usage of 1714.34MB, but using dtype=calendar_data_types 1469.43MB:  14.3% reduction\n",
    "\n",
    "  A regulat read_csv for reviews  implies a memory usage of   72.37MB, but using dtype=reviews_data_types ther is not memory save.\n",
    "\n",
    "I got this figures with 'sum(listings.memory_usage())/1024/1024'"
   ]
  },
  {
   "cell_type": "markdown",
   "id": "7b4b7a27-3e7c-45e7-b66d-216c911d473d",
   "metadata": {},
   "source": [
    "# Ten questions"
   ]
  },
  {
   "cell_type": "markdown",
   "id": "cc8a97ac-8dc5-4e2c-a0c8-0f4a15dd5ae5",
   "metadata": {},
   "source": [
    "## 1.- For the compliance department ==> Which percentage of the listings have informed license?"
   ]
  },
  {
   "cell_type": "code",
   "execution_count": 6,
   "id": "d9ca3fba-6c9f-4e25-abd9-bfd6247fdab6",
   "metadata": {},
   "outputs": [
    {
     "name": "stdout",
     "output_type": "stream",
     "text": [
      "Only 0.0011% of listings have reported license \n"
     ]
    }
   ],
   "source": [
    "total_listings = listings.shape[0]\n",
    "grouped= listings.groupby([\"license\"],group_keys=False)\n",
    "licenses = grouped.size()\n",
    "print(\"Only {:5.4f}% of listings have reported license \".format(100* licenses.iloc[0]/total_listings))"
   ]
  },
  {
   "cell_type": "markdown",
   "id": "9b771e98-55a3-442c-83ab-097d11a0143c",
   "metadata": {},
   "source": [
    "## 2.- For the compliance department ==> Which percentage of the listings have a verified host?"
   ]
  },
  {
   "cell_type": "code",
   "execution_count": 7,
   "id": "57018781",
   "metadata": {},
   "outputs": [
    {
     "name": "stdout",
     "output_type": "stream",
     "text": [
      "Only 12.6771% of listings have a verified host \n"
     ]
    }
   ],
   "source": [
    "total_listings = listings.shape[0]\n",
    "grouped= listings.groupby([\"host_identity_verified\"],group_keys=False)\n",
    "verifications = grouped.size()\n",
    "print(\"Only {:5.4f}% of listings have a verified host \".format(100* verifications.iloc[0]/total_listings))"
   ]
  },
  {
   "cell_type": "markdown",
   "id": "ac453136-93b2-4948-942d-39cef8596c5f",
   "metadata": {},
   "source": [
    "## 3.- For operation department ==> At september time, which is the actual idle capacity for next 365 days?"
   ]
  },
  {
   "cell_type": "code",
   "execution_count": 8,
   "id": "2b186202-f166-4df8-8a14-3c2a13cb2832",
   "metadata": {},
   "outputs": [
    {
     "name": "stdout",
     "output_type": "stream",
     "text": [
      "The idle capacity, measured as available accomodates versus total accomodates in 365 days, is 38.2616% \n"
     ]
    }
   ],
   "source": [
    "total_daily_accomodates=listings[\"accommodates\"].sum()\n",
    "total_year_accomodates = total_daily_accomodates * 365\n",
    "total_year_available = listings[\"availability_365\"].sum()\n",
    "idle_capacity = total_year_available / total_daily_accomodates\n",
    "print(\"The idle capacity, measured as available accomodates versus total accomodates in 365 days, is {:5.4f}% \".format(idle_capacity))"
   ]
  },
  {
   "cell_type": "markdown",
   "id": "245e818e-82bc-4196-a762-649e8de13532",
   "metadata": {},
   "source": [
    "## 4.- For Revenue department ==> Which is the average price per accomodate and night in London?"
   ]
  },
  {
   "cell_type": "code",
   "execution_count": 9,
   "id": "e7bd61ff-6653-4cfd-852e-2e74cc1a1cff",
   "metadata": {},
   "outputs": [],
   "source": [
    "df=listings[[\"price\",\"availability_365\", \"accommodates\", \"minimum_nights\", \"number_of_reviews\", \"host_id\"]]"
   ]
  },
  {
   "cell_type": "code",
   "execution_count": 10,
   "id": "c7b93cea-3667-4be0-9912-eb1169398a7b",
   "metadata": {},
   "outputs": [
    {
     "name": "stderr",
     "output_type": "stream",
     "text": [
      "/tmp/ipykernel_18219/1567605548.py:2: SettingWithCopyWarning: \n",
      "A value is trying to be set on a copy of a slice from a DataFrame.\n",
      "Try using .loc[row_indexer,col_indexer] = value instead\n",
      "\n",
      "See the caveats in the documentation: https://pandas.pydata.org/pandas-docs/stable/user_guide/indexing.html#returning-a-view-versus-a-copy\n",
      "  df.loc[:,\"price_num\"] = df[\"price\"].map(lambda x: x[1:].replace(\",\",\"\"))\n"
     ]
    }
   ],
   "source": [
    "# Remove $ 'x[1:]' and thousands comma separator 'replace(\",\",\"\")' from price column.\n",
    "df.loc[:,\"price_num\"] = df[\"price\"].map(lambda x: x[1:].replace(\",\",\"\"))"
   ]
  },
  {
   "cell_type": "code",
   "execution_count": 11,
   "id": "5aed63ce-1af4-4c2f-a72c-d8cb7f038809",
   "metadata": {},
   "outputs": [
    {
     "name": "stdout",
     "output_type": "stream",
     "text": [
      "The Average price per accomodate and night in London is 64.02 pounds \n"
     ]
    },
    {
     "name": "stderr",
     "output_type": "stream",
     "text": [
      "/tmp/ipykernel_18219/2398856002.py:2: SettingWithCopyWarning: \n",
      "A value is trying to be set on a copy of a slice from a DataFrame.\n",
      "Try using .loc[row_indexer,col_indexer] = value instead\n",
      "\n",
      "See the caveats in the documentation: https://pandas.pydata.org/pandas-docs/stable/user_guide/indexing.html#returning-a-view-versus-a-copy\n",
      "  df.loc[:,\"price_accomodate\"]=df[\"price_num\"]/df[\"accommodates\"]\n"
     ]
    }
   ],
   "source": [
    "df.loc[:,\"price_num\"]=df[\"price_num\"].apply(pd.to_numeric)\n",
    "df.loc[:,\"price_accomodate\"]=df[\"price_num\"]/df[\"accommodates\"]\n",
    "average_price_accomodate_night =df[\"price_accomodate\"].mean()\n",
    "print(\"The Average price per accomodate and night in London is {:5.2f} pounds \".format(average_price_accomodate_night))"
   ]
  },
  {
   "cell_type": "markdown",
   "id": "6dcfbda2-00be-47c7-8d48-781a9e5b0398",
   "metadata": {},
   "source": [
    "## 5.- For Revenue department ==> List host_id for listings with price set to zero."
   ]
  },
  {
   "cell_type": "code",
   "execution_count": 12,
   "id": "07b89c05-030a-499f-bd45-84d0d4df1655",
   "metadata": {},
   "outputs": [
    {
     "name": "stdout",
     "output_type": "stream",
     "text": [
      "There are 1 hosts with prices under 10 pounds per accomodate and night. This are their host ids ==> [3010498] . CALL THEM TO CHECK \n"
     ]
    }
   ],
   "source": [
    "da = df[[\"host_id\",\"price_num\"]]\n",
    "mask = da[\"price_num\"] == 0\n",
    "result = da[mask][\"host_id\"].unique()\n",
    "print(\"There are {} hosts with prices under 10 pounds per accomodate and night. This are their host ids ==> {} . CALL THEM TO CHECK \".format(len(result), list(result)))"
   ]
  },
  {
   "cell_type": "markdown",
   "id": "896d4c58-e405-42dc-9cdf-254a32369b8d",
   "metadata": {},
   "source": [
    "## 6.- For Revenue department ==> List host_id for listings with price per accomodate and night less than ten pounds"
   ]
  },
  {
   "cell_type": "code",
   "execution_count": 13,
   "id": "5bee53ef",
   "metadata": {},
   "outputs": [
    {
     "name": "stdout",
     "output_type": "stream",
     "text": [
      "There are 14 hosts with prices under 10 pounds per accomodate and night ==> [65184913, 2865823, 157459351, 175198291, 115638835, 122480489, 244699748, 258643139, 96692637, 3010498, 254289088, 296801818, 443134508, 86945986]\n"
     ]
    }
   ],
   "source": [
    "da = df[[\"host_id\",\"price_num\"]]\n",
    "mask = (da[\"price_num\"] > 0) & (da[\"price_num\"] < 10)\n",
    "result = da[mask][\"host_id\"].unique()\n",
    "print(\"There are {} hosts with prices under 10 pounds per accomodate and night ==> \".format(len(result)), end=\"\")\n",
    "print(list(result))"
   ]
  },
  {
   "cell_type": "markdown",
   "id": "c0b480be-04aa-426b-879e-f957fea393a8",
   "metadata": {},
   "source": [
    "# 7.- For Treasury department ==> Forecast weekly income till year-end according to september's known booked listings"
   ]
  },
  {
   "cell_type": "code",
   "execution_count": 15,
   "id": "bd6ea971-71f2-43bd-8386-57fbb6c4a8b7",
   "metadata": {},
   "outputs": [
    {
     "name": "stderr",
     "output_type": "stream",
     "text": [
      "/tmp/ipykernel_18219/1036559662.py:8: SettingWithCopyWarning: \n",
      "A value is trying to be set on a copy of a slice from a DataFrame.\n",
      "Try using .loc[row_indexer,col_indexer] = value instead\n",
      "\n",
      "See the caveats in the documentation: https://pandas.pydata.org/pandas-docs/stable/user_guide/indexing.html#returning-a-view-versus-a-copy\n",
      "  df.loc[:,\"price_num\"]=df[\"price\"].apply(pd.to_numeric)\n",
      "/tmp/ipykernel_18219/1036559662.py:10: SettingWithCopyWarning: \n",
      "A value is trying to be set on a copy of a slice from a DataFrame.\n",
      "Try using .loc[row_indexer,col_indexer] = value instead\n",
      "\n",
      "See the caveats in the documentation: https://pandas.pydata.org/pandas-docs/stable/user_guide/indexing.html#returning-a-view-versus-a-copy\n",
      "  df.loc[:,\"year_week\"]= df[\"date\"].dt.isocalendar().week\n"
     ]
    }
   ],
   "source": [
    "# There are 347 prices wiht NA value. I change it by zero.\n",
    "calendar[\"price\"] =calendar[\"price\"].fillna(0)\n",
    "# Subset of field required to answer this question\n",
    "df = calendar[[\"listing_id\", \"date\", \"available\", \"price\"]]\n",
    "# Remove $ 'x[1:]' and thousands comma separator 'replace(\",\",\"\")' from price column.\n",
    "df.loc[:,\"price\"]=df[\"price\"].map(lambda x: x if isinstance(x, int) else x[1:].replace(\",\",\"\"))\n",
    "# convert column to a numeric column\n",
    "df.loc[:,\"price_num\"]=df[\"price\"].apply(pd.to_numeric)\n",
    "# find week fo year \n",
    "df.loc[:,\"year_week\"]= df[\"date\"].dt.isocalendar().week"
   ]
  },
  {
   "cell_type": "code",
   "execution_count": 16,
   "id": "94cb8166-1597-4a82-87bc-6793d2aca99b",
   "metadata": {},
   "outputs": [
    {
     "name": "stdout",
     "output_type": "stream",
     "text": [
      "The accumulated revenue till year-end is 1,111,707,271 GBP\n"
     ]
    },
    {
     "data": {
      "image/png": "[encoded data removed]",
      "text/plain": [
       "<Figure size 640x480 with 1 Axes>"
      ]
     },
     "metadata": {},
     "output_type": "display_data"
    }
   ],
   "source": [
    "#Filter till year-end, listings not available (vailable == f ==>booked) \n",
    "mask = (df[\"date\"] < \"2024-01-01\") & (df[\"available\"] == \"f\")\n",
    "df_2023 = df[mask]\n",
    "# group by week number\n",
    "grouped =df_2023.groupby([\"year_week\"],group_keys=False)\n",
    "# sum prices for each week\n",
    "result =grouped[\"price_num\"].agg(\"sum\")\n",
    "total_forecasted_revenue = sum(result.values)\n",
    "print(\"The accumulated revenue till year-end is {:,} GBP\".format(int(total_forecasted_revenue)))\n",
    "\n",
    "fig, ax = mp.subplots()\n",
    "\n",
    "p= ax.bar(result.index, result.values, color='k')\n",
    "\n",
    "ax.bar_label(p, fmt=lambda x: f'{int(x):,} GBP', rotation = 90, label_type='center', color='w')\n",
    "ax.set_ylabel('Pounds')\n",
    "ax.set_title('Revenue forecast')\n",
    "ax.set_xlabel('Week of year')\n",
    "ax.yaxis.set_major_formatter('${x:,} GBP')\n",
    "ax.xaxis.set_major_formatter('{x:2}')\n",
    "mp.show()"
   ]
  },
  {
   "cell_type": "markdown",
   "id": "2fe40863-a6a1-44e2-b661-3eb267e22b4f",
   "metadata": {},
   "source": [
    "# 8.- For marketing department ==> Categorizing apartments by capacity (accommodates), which two categories produce the highest income till year end."
   ]
  },
  {
   "cell_type": "code",
   "execution_count": 17,
   "id": "1ed1b6ab-9f91-4b15-a6ff-b9d002e52fe7",
   "metadata": {},
   "outputs": [],
   "source": [
    "#Filter till year-end, listings not available (vailable == f ==>booked) \n",
    "mask = (df[\"date\"] < \"2024-01-01\") & (df[\"available\"] == \"f\")\n",
    "df_2023 = df[mask]\n",
    "# group by listing_id\n",
    "grouped =df_2023.groupby([\"listing_id\"],group_keys=False)\n",
    "# sum prices for each listing\n",
    "result =grouped[\"price_num\"].agg(\"sum\")\n",
    "# Create a summary DataFrame\n",
    "revenue_by_listing = pd.DataFrame({\"id\": list(result.index), \"pounds\": list(result.values)})\n",
    "# select relevant columns form listings\n",
    "listing_accommodates = listings[[\"id\",\"accommodates\"]]\n",
    "# SQL left outer join\n",
    "join =pd.merge(revenue_by_listing, listing_accommodates, on=\"id\", how=\"left\")\n"
   ]
  },
  {
   "cell_type": "code",
   "execution_count": 18,
   "id": "1ddb3261-7e08-44dd-82fc-b8f7e69055d7",
   "metadata": {},
   "outputs": [
    {
     "name": "stdout",
     "output_type": "stream",
     "text": [
      "Till the end of the year, listings with 2 accommodates contribute the most revenue with 292,269,006 GBP, followed by listings with 4 accommodates that contribute 274,383,850 GBP\n"
     ]
    }
   ],
   "source": [
    "grouped=join.groupby(\"accommodates\")\n",
    "result=grouped[\"pounds\"].agg(\"sum\")\n",
    "sorted_result = sorted(zip(result.index, result.values), key=lambda x: x[1], reverse=True)\n",
    "print(\"Till the end of the year, listings with {} accommodates contribute the most revenue with {:,} GBP\".format(sorted_result[0][0],int(sorted_result[0][1])), end=\"\")\n",
    "print(\", followed by listings with {} accommodates that contribute {:,} GBP\".format(sorted_result[1][0],int(sorted_result[1][1])))"
   ]
  }
 ],
 "metadata": {
  "kernelspec": {
   "display_name": "Python 3 (ipykernel)",
   "language": "python",
   "name": "python3"
  },
  "language_info": {
   "codemirror_mode": {
    "name": "ipython",
    "version": 3
   },
   "file_extension": ".py",
   "mimetype": "text/x-python",
   "name": "python",
   "nbconvert_exporter": "python",
   "pygments_lexer": "ipython3",
   "version": "3.12.0"
  }
 },
 "nbformat": 4,
 "nbformat_minor": 5
}
