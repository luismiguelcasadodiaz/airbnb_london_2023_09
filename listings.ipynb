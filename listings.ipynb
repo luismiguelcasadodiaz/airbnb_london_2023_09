{
 "cells": [
  {
   "cell_type": "code",
   "execution_count": 350,
   "id": "fd1b967e-c894-4954-9f04-86c88e206198",
   "metadata": {},
   "outputs": [],
   "source": [
    "import pandas as pd\n",
    "from datetime import datetime\n",
    "import numpy as np\n",
    "import matplotlib.pyplot as mp\n",
    "import seaborn as sb "
   ]
  },
  {
   "cell_type": "code",
   "execution_count": 230,
   "id": "a48bea8e-f089-4f95-b259-3ac22b7e399f",
   "metadata": {},
   "outputs": [],
   "source": [
    "def convert_values(value):\n",
    "    if value == 'NA':\n",
    "        return 0\n",
    "    else:\n",
    "        return value"
   ]
  },
  {
   "cell_type": "markdown",
   "id": "8358b799-898e-474b-9cba-b946ec7f073b",
   "metadata": {},
   "source": [
    "# Data load\n",
    "## listings"
   ]
  },
  {
   "cell_type": "code",
   "execution_count": 231,
   "id": "456ce1d7-efb5-4ae3-b849-bd1d2a6bfce2",
   "metadata": {
    "scrolled": true
   },
   "outputs": [
    {
     "name": "stdout",
     "output_type": "stream",
     "text": [
      "Tokenization took: 2111.56 ms\n",
      "Type conversion took: 1494.03 ms\n",
      "Parser memory cleanup took: 12.19 ms\n"
     ]
    }
   ],
   "source": [
    "listings_data_types = {'id':'int64', 'host_id':'int32', \\\n",
    "       'latitude':'float32', \\\n",
    "       'longitude':'float32', 'accommodates':np.ubyte,  \\\n",
    "       'availability_30':np.ubyte, 'availability_60':np.ubyte, 'availability_90':np.ubyte, 'availability_365':np.ushort,  'number_of_reviews':np.ushort, \\\n",
    "       'number_of_reviews_ltm':np.ushort, 'number_of_reviews_l30d':np.ubyte,  \\\n",
    "       'review_scores_rating':'float32', 'review_scores_accuracy':'float32', \\\n",
    "       'review_scores_cleanliness':'float32', 'review_scores_checkin':'float32', 'review_scores_communication':'float32', 'review_scores_location':'float32', \\\n",
    "       'review_scores_value':'float32', 'calculated_host_listings_count':np.ushort, \\\n",
    "       'calculated_host_listings_count_entire_homes':np.ushort, 'calculated_host_listings_count_private_rooms':np.ushort, \\\n",
    "        'calculated_host_listings_count_shared_rooms':np.ubyte, 'reviews_per_month':'float32'}\n",
    "\n",
    "listings = pd.read_csv(\"http://data.insideairbnb.com/united-kingdom/england/london/2023-09-06/data/listings.csv.gz\", \\\n",
    "                       low_memory=False, \\\n",
    "                       verbose=True, \\\n",
    "                       converters={'bedrooms': convert_values, 'beds': convert_values, 'maximum_nights':convert_values}, \\\n",
    "                       dtype = listings_data_types, \\\n",
    "                       parse_dates=['last_scraped', 'host_since','calendar_updated','calendar_last_scraped', 'first_review', 'last_review'])"
   ]
  },
  {
   "cell_type": "markdown",
   "id": "a4385bc8-0da5-4ffe-a06e-3188fa2f0ee6",
   "metadata": {},
   "source": [
    "## calendar"
   ]
  },
  {
   "cell_type": "code",
   "execution_count": 232,
   "id": "6b88f35f-7ffa-4155-9e9e-11105acad410",
   "metadata": {},
   "outputs": [
    {
     "name": "stdout",
     "output_type": "stream",
     "text": [
      "Tokenization took: 11970.42 ms\n",
      "Type conversion took: 9442.24 ms\n",
      "Parser memory cleanup took: 279.64 ms\n"
     ]
    }
   ],
   "source": [
    "calendar_data_types = {'listing_id': 'int64', \\\n",
    "    'minimum_nights': np.single, \\\n",
    "    'maximum_nights':'float32'}\n",
    "\n",
    "\n",
    "calendar = pd.read_csv(\"http://data.insideairbnb.com/united-kingdom/england/london/2023-09-06/data/calendar.csv.gz\", \\\n",
    "                       low_memory=False, \\\n",
    "                       verbose=True, \\\n",
    "                       converters={'adjusted_price': convert_values}, \\\n",
    "                       dtype = calendar_data_types, \\\n",
    "                       parse_dates=['date'])\n"
   ]
  },
  {
   "cell_type": "markdown",
   "id": "1d070974-c3a5-4f41-a528-26671d65601f",
   "metadata": {},
   "source": [
    "## reviews"
   ]
  },
  {
   "cell_type": "code",
   "execution_count": 233,
   "id": "1bb454dd-f12a-4ec3-a898-603b1b76e69d",
   "metadata": {},
   "outputs": [
    {
     "name": "stdout",
     "output_type": "stream",
     "text": [
      "Tokenization took: 5393.79 ms\n",
      "Type conversion took: 3177.26 ms\n",
      "Parser memory cleanup took: 24.08 ms\n"
     ]
    }
   ],
   "source": [
    "reviews = pd.read_csv(\"http://data.insideairbnb.com/united-kingdom/england/london/2023-09-06/data/reviews.csv.gz\", \\\n",
    "                      low_memory=False, \\\n",
    "                      verbose=True, \\\n",
    "                      converters={'adjusted_price': convert_values}, \\\n",
    "                      parse_dates=['date'])"
   ]
  },
  {
   "cell_type": "markdown",
   "id": "17e68d70-bb6f-49a5-8412-6d530ea5f74b",
   "metadata": {},
   "source": [
    "# memory optimization\n",
    "- A regular read_csv for listings implies a memory usage of   50.32MB, but using dtype=listings_data_types   40.09MB:  18.7% reduction\n",
    "\n",
    "- A regulat read_csv for calendar implies a memory usage of 1714.34MB, but using dtype=calendar_data_types 1469.43MB:  14.3% reduction\n",
    "\n",
    "  A regulat read_csv for reviews  implies a memory usage of   72.37MB, but using dtype=reviews_data_types ther is not memory save.\n",
    "\n",
    "I got this figures with 'sum(listings.memory_usage())/1024/1024'"
   ]
  },
  {
   "cell_type": "markdown",
   "id": "7b4b7a27-3e7c-45e7-b66d-216c911d473d",
   "metadata": {},
   "source": [
    "# Ten questions"
   ]
  },
  {
   "cell_type": "markdown",
   "id": "cc8a97ac-8dc5-4e2c-a0c8-0f4a15dd5ae5",
   "metadata": {},
   "source": [
    "## 1.- For the compliance department ==> Which percentage of the listings have informed license?"
   ]
  },
  {
   "cell_type": "code",
   "execution_count": 234,
   "id": "d9ca3fba-6c9f-4e25-abd9-bfd6247fdab6",
   "metadata": {},
   "outputs": [
    {
     "name": "stdout",
     "output_type": "stream",
     "text": [
      "Only 0.0011% of listings have reported license \n"
     ]
    }
   ],
   "source": [
    "total_listings = listings.shape[0]\n",
    "grouped= listings.groupby([\"license\"],group_keys=False)\n",
    "licenses = grouped.size()\n",
    "print(\"Only {:5.4f}% of listings have reported license \".format(100* licenses.iloc[0]/total_listings))"
   ]
  },
  {
   "cell_type": "markdown",
   "id": "9b771e98-55a3-442c-83ab-097d11a0143c",
   "metadata": {},
   "source": [
    "## 2.- For the compliance department ==> Which percentage of the listings have a verified host?"
   ]
  },
  {
   "cell_type": "code",
   "execution_count": 235,
   "id": "57018781",
   "metadata": {},
   "outputs": [
    {
     "name": "stdout",
     "output_type": "stream",
     "text": [
      "Only 12.6771% of listings have a verified host \n"
     ]
    }
   ],
   "source": [
    "total_listings = listings.shape[0]\n",
    "grouped= listings.groupby([\"host_identity_verified\"],group_keys=False)\n",
    "verifications = grouped.size()\n",
    "print(\"Only {:5.4f}% of listings have a verified host \".format(100* verifications.iloc[0]/total_listings))"
   ]
  },
  {
   "cell_type": "markdown",
   "id": "ac453136-93b2-4948-942d-39cef8596c5f",
   "metadata": {},
   "source": [
    "## 3.- For operation department ==> At september time, which is the actual idle capacity for next 365 days?"
   ]
  },
  {
   "cell_type": "code",
   "execution_count": 237,
   "id": "2b186202-f166-4df8-8a14-3c2a13cb2832",
   "metadata": {},
   "outputs": [
    {
     "name": "stdout",
     "output_type": "stream",
     "text": [
      "The idle capacity, measured as available accomodates versus total accomodates in 365 days, is 38.2616% \n"
     ]
    }
   ],
   "source": [
    "total_daily_accomodates=listings[\"accommodates\"].sum()\n",
    "total_year_accomodates = total_daily_accomodates * 365\n",
    "total_year_available = listings[\"availability_365\"].sum()\n",
    "idle_capacity = total_year_available / total_daily_accomodates\n",
    "print(\"The idle capacity, measured as available accomodates versus total accomodates in 365 days, is {:5.4f}% \".format(idle_capacity))"
   ]
  },
  {
   "cell_type": "markdown",
   "id": "245e818e-82bc-4196-a762-649e8de13532",
   "metadata": {},
   "source": [
    "## 4.- For Revenue department ==> Which is the average price per accomodate and night in London?"
   ]
  },
  {
   "cell_type": "code",
   "execution_count": 311,
   "id": "e7bd61ff-6653-4cfd-852e-2e74cc1a1cff",
   "metadata": {},
   "outputs": [],
   "source": [
    "df=listings[[\"price\",\"availability_365\", \"accommodates\", \"minimum_nights\", \"number_of_reviews\", \"host_id\"]]"
   ]
  },
  {
   "cell_type": "code",
   "execution_count": 313,
   "id": "c7b93cea-3667-4be0-9912-eb1169398a7b",
   "metadata": {},
   "outputs": [],
   "source": [
    "df.loc[:,\"price_num\"] = df[\"price\"].map(lambda x: x[1:])\n",
    "df.loc[:,\"price_num\"] = df[\"price_num\"].map(lambda x: x.replace(\",\",\"\"))\n"
   ]
  },
  {
   "cell_type": "code",
   "execution_count": 315,
   "id": "5aed63ce-1af4-4c2f-a72c-d8cb7f038809",
   "metadata": {},
   "outputs": [
    {
     "name": "stdout",
     "output_type": "stream",
     "text": [
      "The Average price per accomodate and night in London is 64.02 pounds \n"
     ]
    }
   ],
   "source": [
    "df.loc[:,\"price_num\"]=df[\"price_num\"].apply(pd.to_numeric)\n",
    "df.loc[:,\"price_accomodate\"]=df[\"price_num\"]/df[\"accommodates\"]\n",
    "average_price_accomodate_night =df[\"price_accomodate\"].mean()\n",
    "print(\"The Average price per accomodate and night in London is {:5.2f} pounds \".format(average_price_accomodate_night))"
   ]
  },
  {
   "cell_type": "markdown",
   "id": "6dcfbda2-00be-47c7-8d48-781a9e5b0398",
   "metadata": {},
   "source": [
    "## 5.- For Revenue department ==> List host_id for listings with price set to zero."
   ]
  },
  {
   "cell_type": "code",
   "execution_count": 343,
   "id": "07b89c05-030a-499f-bd45-84d0d4df1655",
   "metadata": {},
   "outputs": [
    {
     "name": "stdout",
     "output_type": "stream",
     "text": [
      "There are 1 hosts with prices under 10 pounds per accomodate and night. This are their host ids ==> [3010498] . CALL THEM TO CHECK \n",
      "\n"
     ]
    }
   ],
   "source": [
    "da = df[[\"host_id\",\"price_num\"]]\n",
    "mask = da[\"price_num\"] == 0\n",
    "result = da[mask][\"host_id\"].unique()\n",
    "print(\"There are {} hosts with prices under 10 pounds per accomodate and night. This are their host ids ==> {} . CALL THEM TO CHECK \".format(len(result), list(result)))"
   ]
  },
  {
   "cell_type": "markdown",
   "id": "896d4c58-e405-42dc-9cdf-254a32369b8d",
   "metadata": {},
   "source": [
    "## 6.- For Revenue department ==> List host_id for listings with price per accomodate and night less than ten pounds"
   ]
  },
  {
   "cell_type": "code",
   "execution_count": 344,
   "id": "5bee53ef",
   "metadata": {},
   "outputs": [
    {
     "name": "stdout",
     "output_type": "stream",
     "text": [
      "There are 14 hosts with prices under 10 pounds per accomodate and night ==> [65184913, 2865823, 157459351, 175198291, 115638835, 122480489, 244699748, 258643139, 96692637, 3010498, 254289088, 296801818, 443134508, 86945986]\n"
     ]
    }
   ],
   "source": [
    "da = df[[\"host_id\",\"price_num\"]]\n",
    "mask = (da[\"price_num\"] > 0) & (da[\"price_num\"] < 10)\n",
    "result = da[mask][\"host_id\"].unique()\n",
    "print(\"There are {} hosts with prices under 10 pounds per accomodate and night ==> \".format(len(result)), end=\"\")\n",
    "print(list(result))"
   ]
  },
  {
   "cell_type": "markdown",
   "id": "c0b480be-04aa-426b-879e-f957fea393a8",
   "metadata": {},
   "source": [
    "# to be continued. it is too late in Spain"
   ]
  },
  {
   "cell_type": "code",
   "execution_count": 348,
   "id": "99200bea-4718-40ec-ad06-bde0e662170b",
   "metadata": {},
   "outputs": [],
   "source": [
    "da=df.drop(columns=[\"price\", \"price_num\", \"host_id\"])"
   ]
  },
  {
   "cell_type": "code",
   "execution_count": 349,
   "id": "4c179ad3-ed83-4e26-9d6a-e3df0b133348",
   "metadata": {},
   "outputs": [
    {
     "data": {
      "image/png": "[encoded data removed]",
      "text/plain": [
       "<Figure size 640x480 with 2 Axes>"
      ]
     },
     "metadata": {},
     "output_type": "display_data"
    }
   ],
   "source": [
    "dataplot = sb.heatmap(da.corr(), cmap=\"YlGnBu\", annot=True) \n",
    "  \n",
    "# displaying heatmap \n",
    "mp.show() "
   ]
  },
  {
   "cell_type": "code",
   "execution_count": null,
   "id": "0d013c3c-f339-44f4-ab03-719c9162e02d",
   "metadata": {},
   "outputs": [],
   "source": []
  },
  {
   "cell_type": "code",
   "execution_count": 204,
   "id": "57685956-bf2b-4274-bf7d-3eb6a933df6a",
   "metadata": {},
   "outputs": [
    {
     "data": {
      "text/html": [
       "<div>\n",
       "<style scoped>\n",
       "    .dataframe tbody tr th:only-of-type {\n",
       "        vertical-align: middle;\n",
       "    }\n",
       "\n",
       "    .dataframe tbody tr th {\n",
       "        vertical-align: top;\n",
       "    }\n",
       "\n",
       "    .dataframe thead th {\n",
       "        text-align: right;\n",
       "    }\n",
       "</style>\n",
       "<table border=\"1\" class=\"dataframe\">\n",
       "  <thead>\n",
       "    <tr style=\"text-align: right;\">\n",
       "      <th>available</th>\n",
       "      <th>f</th>\n",
       "      <th>t</th>\n",
       "      <th>booked</th>\n",
       "    </tr>\n",
       "    <tr>\n",
       "      <th>listing_id</th>\n",
       "      <th></th>\n",
       "      <th></th>\n",
       "      <th></th>\n",
       "    </tr>\n",
       "  </thead>\n",
       "  <tbody>\n",
       "    <tr>\n",
       "      <th>13913</th>\n",
       "      <td>5.0</td>\n",
       "      <td>360.0</td>\n",
       "      <td>0.013699</td>\n",
       "    </tr>\n",
       "    <tr>\n",
       "      <th>15400</th>\n",
       "      <td>292.0</td>\n",
       "      <td>73.0</td>\n",
       "      <td>0.800000</td>\n",
       "    </tr>\n",
       "    <tr>\n",
       "      <th>17402</th>\n",
       "      <td>65.0</td>\n",
       "      <td>300.0</td>\n",
       "      <td>0.178082</td>\n",
       "    </tr>\n",
       "    <tr>\n",
       "      <th>24328</th>\n",
       "      <td>365.0</td>\n",
       "      <td>NaN</td>\n",
       "      <td>1.000000</td>\n",
       "    </tr>\n",
       "    <tr>\n",
       "      <th>25123</th>\n",
       "      <td>365.0</td>\n",
       "      <td>NaN</td>\n",
       "      <td>1.000000</td>\n",
       "    </tr>\n",
       "    <tr>\n",
       "      <th>...</th>\n",
       "      <td>...</td>\n",
       "      <td>...</td>\n",
       "      <td>...</td>\n",
       "    </tr>\n",
       "    <tr>\n",
       "      <th>973781286754517228</th>\n",
       "      <td>126.0</td>\n",
       "      <td>239.0</td>\n",
       "      <td>0.345205</td>\n",
       "    </tr>\n",
       "    <tr>\n",
       "      <th>973801695874775338</th>\n",
       "      <td>277.0</td>\n",
       "      <td>88.0</td>\n",
       "      <td>0.758904</td>\n",
       "    </tr>\n",
       "    <tr>\n",
       "      <th>973811685656289740</th>\n",
       "      <td>285.0</td>\n",
       "      <td>80.0</td>\n",
       "      <td>0.780822</td>\n",
       "    </tr>\n",
       "    <tr>\n",
       "      <th>973882998775927897</th>\n",
       "      <td>1.0</td>\n",
       "      <td>364.0</td>\n",
       "      <td>0.002740</td>\n",
       "    </tr>\n",
       "    <tr>\n",
       "      <th>973895808066047620</th>\n",
       "      <td>68.0</td>\n",
       "      <td>297.0</td>\n",
       "      <td>0.186301</td>\n",
       "    </tr>\n",
       "  </tbody>\n",
       "</table>\n",
       "<p>87946 rows × 3 columns</p>\n",
       "</div>"
      ],
      "text/plain": [
       "available               f      t    booked\n",
       "listing_id                                \n",
       "13913                 5.0  360.0  0.013699\n",
       "15400               292.0   73.0  0.800000\n",
       "17402                65.0  300.0  0.178082\n",
       "24328               365.0    NaN  1.000000\n",
       "25123               365.0    NaN  1.000000\n",
       "...                   ...    ...       ...\n",
       "973781286754517228  126.0  239.0  0.345205\n",
       "973801695874775338  277.0   88.0  0.758904\n",
       "973811685656289740  285.0   80.0  0.780822\n",
       "973882998775927897    1.0  364.0  0.002740\n",
       "973895808066047620   68.0  297.0  0.186301\n",
       "\n",
       "[87946 rows x 3 columns]"
      ]
     },
     "execution_count": 204,
     "metadata": {},
     "output_type": "execute_result"
    }
   ],
   "source": [
    "grouped= calendar.groupby([\"listing_id\", \"available\"],group_keys=False)\n",
    "booked = grouped.size().unstack()\n",
    "booked.fillna(0)\n",
    "booked[\"booked\"]= booked[\"f\"]/365\n",
    "booked"
   ]
  },
  {
   "cell_type": "code",
   "execution_count": 224,
   "id": "354aef07-e01e-4ab7-92f1-cd8ecd3905d5",
   "metadata": {},
   "outputs": [],
   "source": [
    "df=listings[[\"id\",\"availability_365\", \"accommodates\"]]"
   ]
  },
  {
   "cell_type": "code",
   "execution_count": 228,
   "id": "7a221cf8-e5ea-48cc-bb8c-c074c65b7c10",
   "metadata": {},
   "outputs": [
    {
     "data": {
      "text/html": [
       "<div>\n",
       "<style scoped>\n",
       "    .dataframe tbody tr th:only-of-type {\n",
       "        vertical-align: middle;\n",
       "    }\n",
       "\n",
       "    .dataframe tbody tr th {\n",
       "        vertical-align: top;\n",
       "    }\n",
       "\n",
       "    .dataframe thead th {\n",
       "        text-align: right;\n",
       "    }\n",
       "</style>\n",
       "<table border=\"1\" class=\"dataframe\">\n",
       "  <thead>\n",
       "    <tr style=\"text-align: right;\">\n",
       "      <th></th>\n",
       "      <th>id</th>\n",
       "      <th>availability_365</th>\n",
       "      <th>accommodates</th>\n",
       "    </tr>\n",
       "  </thead>\n",
       "  <tbody>\n",
       "    <tr>\n",
       "      <th>0</th>\n",
       "      <td>92644</td>\n",
       "      <td>217</td>\n",
       "      <td>2</td>\n",
       "    </tr>\n",
       "    <tr>\n",
       "      <th>1</th>\n",
       "      <td>93015</td>\n",
       "      <td>40</td>\n",
       "      <td>5</td>\n",
       "    </tr>\n",
       "    <tr>\n",
       "      <th>2</th>\n",
       "      <td>13913</td>\n",
       "      <td>360</td>\n",
       "      <td>1</td>\n",
       "    </tr>\n",
       "    <tr>\n",
       "      <th>3</th>\n",
       "      <td>15400</td>\n",
       "      <td>73</td>\n",
       "      <td>2</td>\n",
       "    </tr>\n",
       "    <tr>\n",
       "      <th>4</th>\n",
       "      <td>93734</td>\n",
       "      <td>196</td>\n",
       "      <td>2</td>\n",
       "    </tr>\n",
       "    <tr>\n",
       "      <th>...</th>\n",
       "      <td>...</td>\n",
       "      <td>...</td>\n",
       "      <td>...</td>\n",
       "    </tr>\n",
       "    <tr>\n",
       "      <th>87941</th>\n",
       "      <td>973781286754517228</td>\n",
       "      <td>239</td>\n",
       "      <td>3</td>\n",
       "    </tr>\n",
       "    <tr>\n",
       "      <th>87942</th>\n",
       "      <td>973801695874775338</td>\n",
       "      <td>88</td>\n",
       "      <td>2</td>\n",
       "    </tr>\n",
       "    <tr>\n",
       "      <th>87943</th>\n",
       "      <td>973811685656289740</td>\n",
       "      <td>80</td>\n",
       "      <td>7</td>\n",
       "    </tr>\n",
       "    <tr>\n",
       "      <th>87944</th>\n",
       "      <td>973882998775927897</td>\n",
       "      <td>364</td>\n",
       "      <td>10</td>\n",
       "    </tr>\n",
       "    <tr>\n",
       "      <th>87945</th>\n",
       "      <td>973895808066047620</td>\n",
       "      <td>297</td>\n",
       "      <td>6</td>\n",
       "    </tr>\n",
       "  </tbody>\n",
       "</table>\n",
       "<p>87946 rows × 3 columns</p>\n",
       "</div>"
      ],
      "text/plain": [
       "                       id  availability_365  accommodates\n",
       "0                   92644               217             2\n",
       "1                   93015                40             5\n",
       "2                   13913               360             1\n",
       "3                   15400                73             2\n",
       "4                   93734               196             2\n",
       "...                   ...               ...           ...\n",
       "87941  973781286754517228               239             3\n",
       "87942  973801695874775338                88             2\n",
       "87943  973811685656289740                80             7\n",
       "87944  973882998775927897               364            10\n",
       "87945  973895808066047620               297             6\n",
       "\n",
       "[87946 rows x 3 columns]"
      ]
     },
     "execution_count": 228,
     "metadata": {},
     "output_type": "execute_result"
    }
   ],
   "source": [
    "df"
   ]
  },
  {
   "cell_type": "code",
   "execution_count": 217,
   "id": "fd1120a3-c769-4841-8ba9-a0e65dbcedfa",
   "metadata": {},
   "outputs": [
    {
     "data": {
      "image/png": "[encoded data removed]",
      "text/plain": [
       "<Figure size 640x480 with 1 Axes>"
      ]
     },
     "metadata": {},
     "output_type": "display_data"
    }
   ],
   "source": [
    "a=booked[\"booked\"].hist(bins=10)"
   ]
  },
  {
   "cell_type": "code",
   "execution_count": null,
   "id": "f6b16a0e-7355-449c-bdeb-a1a21e614960",
   "metadata": {},
   "outputs": [],
   "source": []
  }
 ],
 "metadata": {
  "kernelspec": {
   "display_name": "Python 3 (ipykernel)",
   "language": "python",
   "name": "python3"
  },
  "language_info": {
   "codemirror_mode": {
    "name": "ipython",
    "version": 3
   },
   "file_extension": ".py",
   "mimetype": "text/x-python",
   "name": "python",
   "nbconvert_exporter": "python",
   "pygments_lexer": "ipython3",
   "version": "3.12.0"
  }
 },
 "nbformat": 4,
 "nbformat_minor": 5
}
